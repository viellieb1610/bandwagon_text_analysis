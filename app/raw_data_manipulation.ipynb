{
 "cells": [
  {
   "metadata": {
    "ExecuteTime": {
     "end_time": "2024-12-02T12:22:09.037492Z",
     "start_time": "2024-12-02T12:03:34.638143Z"
    }
   },
   "cell_type": "code",
   "source": [
    "import pandas as pd\n",
    "\n",
    "# Datei-Pfade anpassen\n",
    "input_file_path = '/home/philipp/Gdrive/2_Universität/Wirtschaftsinformatik/7. Semester/Bachelorarbeit (Bandwagon Effect)/Daten/Raw/imdb_raw.csv'\n",
    "output_file_path = '/home/philipp/Gdrive/2_Universität/Wirtschaftsinformatik/7. Semester/Bachelorarbeit (Bandwagon Effect)/Daten/Raw/imdb_raw_indexed.csv'\n",
    "\n",
    "# Definiere die neuen Spaltennamen als Dictionary\n",
    "new_column_names = {\n",
    "    \"review_date\": \"review_date\",\n",
    "    \"reviewer\": \"user\",\n",
    "    \"movie\": \"item\",\n",
    "    \"rating\": \"rating\",\n",
    "    \"review_detail\": \"review_text\"\n",
    "    # Füge hier weitere Spaltennamen hinzu\n",
    "}\n",
    "\n",
    "# Definiere die Chunk-Größe (z.B. 1 Million Zeilen pro Chunk)\n",
    "chunksize = 10**5\n",
    "\n",
    "# Datei in Chunks einlesen und verarbeiten\n",
    "with pd.read_csv(input_file_path, chunksize=chunksize) as reader:\n",
    "    for i, chunk in enumerate(reader):\n",
    "        # Index hinzufügen\n",
    "        chunk.reset_index(inplace=True)\n",
    "\n",
    "        # Spaltennamen ändern\n",
    "        chunk.rename(columns=new_column_names, inplace=True)\n",
    "\n",
    "        # Schreibmodus festlegen: Überschreiben für den ersten Chunk, Anhängen für die nächsten\n",
    "        mode = 'w' if i == 0 else 'a'\n",
    "        header = True if i == 0 else False\n",
    "\n",
    "        # Chunk in die Datei schreiben\n",
    "        chunk.to_csv(output_file_path, mode=mode, index=False, header=header)"
   ],
   "id": "b34f4dd0a240c06b",
   "outputs": [],
   "execution_count": 1
  }
 ],
 "metadata": {
  "kernelspec": {
   "display_name": "Python 3",
   "language": "python",
   "name": "python3"
  },
  "language_info": {
   "codemirror_mode": {
    "name": "ipython",
    "version": 2
   },
   "file_extension": ".py",
   "mimetype": "text/x-python",
   "name": "python",
   "nbconvert_exporter": "python",
   "pygments_lexer": "ipython2",
   "version": "2.7.6"
  }
 },
 "nbformat": 4,
 "nbformat_minor": 5
}
