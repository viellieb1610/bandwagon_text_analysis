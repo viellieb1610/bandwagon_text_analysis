{
 "cells": [
  {
   "metadata": {
    "ExecuteTime": {
     "end_time": "2024-12-05T12:30:52.367941Z",
     "start_time": "2024-12-05T12:30:51.394860Z"
    }
   },
   "cell_type": "code",
   "source": [
    "import pandas as pd\n",
    "import re\n",
    "\n",
    "from gmpy2 import random_state"
   ],
   "id": "b5540ae03828b361",
   "outputs": [],
   "execution_count": 1
  },
  {
   "metadata": {
    "ExecuteTime": {
     "end_time": "2024-12-05T12:31:23.812454Z",
     "start_time": "2024-12-05T12:31:06.174802Z"
    }
   },
   "cell_type": "code",
   "source": [
    "# Read the data\n",
    "df = pd.read_csv('/home/philipp/Gdrive/2_Universität/Wirtschaftsinformatik/7. Semester/Bachelorarbeit (Bandwagon Effect)/Daten/Raw/imdb_raw_indexed.csv', nrows=100000, index_col=0)"
   ],
   "id": "f061c3a14fdad267",
   "outputs": [],
   "execution_count": 2
  },
  {
   "metadata": {
    "ExecuteTime": {
     "end_time": "2024-12-05T12:33:46.323592Z",
     "start_time": "2024-12-05T12:31:49.782876Z"
    }
   },
   "cell_type": "code",
   "source": [
    "# Define the regex pattern\n",
    "# pattern = r\"(?:as\\s(?:someone|others?|many)\\ssaid)|(?:(?:I\\sagree|disagree)\\s(?:with|that)\\s(?:what|the\\scomment\\sabove|the\\sstatement))|(?:like\\s.*?(?:mentioned|stated|pointed\\sout|said|wrote))|(?:in\\sresponse\\sto\\s.*?(?:review|comment|statement))|(?:following\\sup\\son\\s(?:a\\sprevious|another)\\s.*?(?:review|post))|(?:building\\son\\swhat\\s.*?(?:said|shared|mentioned))|(?:(?:to\\sadd\\sto|to\\sclarify)\\s.*?(?:a\\sreview|previous\\scomment))|(?:as\\snoted\\sby\\s(?:another|someone))|(?:referencing\\s(?:another|a\\sprevious|prior)\\s.*?(?:review|comment))|(?:I\\sfound\\sthe\\scomment\\s(?:above|below)\\s.*?interesting)|(?:referring\\sto\\s.*?(?:what\\swas\\smentioned|the\\scomment))|(?:based\\son\\s.*?(?:another\\scomment|previous\\sstatement|prior\\sreview))|(?:related\\sto\\s.*?(?:what\\swas\\sstated|another\\sreview))|(?:just\\sas\\s.*?(?:another\\suser\\snoted|someone\\sstated))|(?:according\\sto\\s.*?(?:another\\sreviewer|what\\swas\\sstated))|(?:echoing\\s.*?(?:someone\\selse|another\\sperson))|(?:thank\\s.*?(?:another\\sreviewer|the\\scommenter))|(?:replying\\sto\\s.*?(?:a\\scomment|what\\swas\\smentioned))|(?:similar\\sto\\s.*?(?:what\\shas\\sbeen\\sreviewed|another\\sopinion))|(?:I\\sagree\\swith\\s.*?(?:another\\suser|someone\\selse))|(?:disagreeing\\swith\\s.*?(?:another\\sstatement|what\\swas\\ssaid))|(?:adding\\sto\\s.*?(?:what\\swas\\smentioned|another\\scomment))|(?:continuing\\sthe\\sdiscussion\\sof\\s.*?(?:a\\sreview|prior\\sstatement))\"\n",
    "\n",
    "pattern = r\"(?:as\\s(?:someone|others?|many)\\ssaid)|(?:(?:I\\sagree|disagree)\\s(?:with|that)\\s(?:what|the\\scomment\\sabove|the\\sstatement))|(?:like\\s[^.]*?(?:mentioned|stated|pointed\\sout|said|wrote))|(?:in\\sresponse\\sto\\s[^.]*?(?:review|comment|statement))|(?:following\\sup\\son\\s(?:a\\sprevious|another)\\s[^.]*?(?:review|post))|(?:building\\son\\swhat\\s[^.]*?(?:said|shared|mentioned))|(?:(?:to\\sadd\\sto|to\\sclarify)\\s[^.]*?(?:a\\sreview|previous\\scomment))|(?:as\\snoted\\sby\\s(?:another|someone))|(?:referencing\\s(?:another|a\\sprevious|prior)\\s[^.]*?(?:review|comment))|(?:I\\sfound\\sthe\\scomment\\s(?:above|below)\\s[^.]*?interesting)|(?:referring\\sto\\s[^.]*?(?:what\\swas\\smentioned|the\\scomment))|(?:based\\son\\s[^.]*?(?:another\\scomment|previous\\sstatement|prior\\sreview))|(?:related\\sto\\s[^.]*?(?:what\\swas\\sstated|another\\sreview))|(?:just\\sas\\s[^.]*?(?:another\\suser\\snoted|someone\\sstated))|(?:according\\sto\\s[^.]*?(?:another\\sreviewer|what\\swas\\sstated))|(?:echoing\\s[^.]*?(?:someone\\selse|another\\sperson))|(?:thank\\s[^.]*?(?:another\\sreviewer|the\\scommenter))|(?:replying\\sto\\s[^.]*?(?:a\\scomment|what\\swas\\smentioned))|(?:similar\\sto\\s[^.]*?(?:what\\shas\\sbeen\\sreviewed|another\\sopinion))|(?:I\\sagree\\swith\\s[^.]*?(?:another\\suser|someone\\selse))|(?:disagreeing\\swith\\s[^.]*?(?:another\\sstatement|what\\swas\\ssaid))|(?:adding\\sto\\s[^.]*?(?:what\\swas\\smentioned|another\\scomment))|(?:continuing\\sthe\\sdiscussion\\sof\\s[^.]*?(?:a\\sreview|prior\\sstatement))\"\n",
    "\n",
    "df['contains_pattern'] = df['review_text'].apply(lambda x: bool(re.search(pattern, x, flags=re.IGNORECASE)))\n",
    "\n",
    "# Apply the regex search and highlight the found phrases\n",
    "df['review_text'] = df['review_text'].apply(lambda x: re.sub(pattern, r'***\\g<0>***', x, flags=re.IGNORECASE))"
   ],
   "id": "26a0f3cb10884c5",
   "outputs": [],
   "execution_count": 3
  },
  {
   "metadata": {
    "ExecuteTime": {
     "end_time": "2024-12-05T12:33:52.733552Z",
     "start_time": "2024-12-05T12:33:52.676926Z"
    }
   },
   "cell_type": "code",
   "source": [
    "# Filter the results where the rating is at least 9.0\n",
    "filtered_result = df[((df['rating'] >= 8.0) | (df['rating'] <= 3.0)) & (df['contains_pattern'])]\n",
    "\n",
    "# Save the filtered result to a CSV file\n",
    "filtered_result.to_csv('../filtered_regex_result_dec_5.csv', index=True)"
   ],
   "id": "2aee23d334743618",
   "outputs": [],
   "execution_count": 4
  },
  {
   "metadata": {
    "ExecuteTime": {
     "end_time": "2024-12-05T12:33:59.447431Z",
     "start_time": "2024-12-05T12:33:59.432250Z"
    }
   },
   "cell_type": "code",
   "source": "filtered_result.columns",
   "id": "b4339c4a558b2a2",
   "outputs": [
    {
     "data": {
      "text/plain": [
       "Index(['review_date', 'user', 'item', 'rating', 'review_text',\n",
       "       'contains_pattern'],\n",
       "      dtype='object')"
      ]
     },
     "execution_count": 5,
     "metadata": {},
     "output_type": "execute_result"
    }
   ],
   "execution_count": 5
  }
 ],
 "metadata": {
  "kernelspec": {
   "display_name": "Python 3",
   "language": "python",
   "name": "python3"
  },
  "language_info": {
   "codemirror_mode": {
    "name": "ipython",
    "version": 2
   },
   "file_extension": ".py",
   "mimetype": "text/x-python",
   "name": "python",
   "nbconvert_exporter": "python",
   "pygments_lexer": "ipython2",
   "version": "2.7.6"
  }
 },
 "nbformat": 4,
 "nbformat_minor": 5
}
