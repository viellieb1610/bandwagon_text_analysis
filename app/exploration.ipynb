{
 "cells": [
  {
   "metadata": {},
   "cell_type": "markdown",
   "source": "# Imports",
   "id": "4f35a0abbdaed820"
  },
  {
   "metadata": {},
   "cell_type": "code",
   "source": [
    "import pandas as pd\n",
    "import seaborn as sns"
   ],
   "id": "1a1334e26d7b7777",
   "outputs": [],
   "execution_count": null
  },
  {
   "metadata": {},
   "cell_type": "markdown",
   "source": "# Get data",
   "id": "36e5acf37cdf90ce"
  },
  {
   "cell_type": "code",
   "id": "initial_id",
   "metadata": {
    "collapsed": true
   },
   "source": "df = pd.read_csv(\"/home/philipp/Gdrive/2_Universität/Wirtschaftsinformatik/7. Semester/Bachelorarbeit (Bandwagon Effect)/Daten/Raw/imdb_raw.csv\", nrows=100000)",
   "outputs": [],
   "execution_count": null
  },
  {
   "metadata": {},
   "cell_type": "code",
   "source": "df.head()",
   "id": "d1394ae76a2031ef",
   "outputs": [],
   "execution_count": null
  },
  {
   "metadata": {},
   "cell_type": "markdown",
   "source": "# Regex search",
   "id": "350d316851ccb930"
  },
  {
   "metadata": {},
   "cell_type": "code",
   "source": [
    "# regex_result = df[df['reviewText'].str.contains(r\"everyone|others|majority|most|user\", regex=True, case=False)]\n",
    "regex_result = df[df['review_detail'].str.contains(r\"(?:as\\s(?:someone|others?|many)\\ssaid)|(?:(?:I\\sagree|disagree)\\s(?:with|that)\\s(?:what|the\\scomment\\sabove|the\\sstatement))|(?:like\\s.*?(?:mentioned|stated|pointed\\sout|said|wrote))|(?:in\\sresponse\\sto\\s.*?(?:review|comment|statement))|(?:following\\sup\\son\\s(?:a\\sprevious|another)\\s.*?(?:review|post))|(?:building\\son\\swhat\\s.*?(?:said|shared|mentioned))|(?:(?:to\\sadd\\sto|to\\sclarify)\\s.*?(?:a\\sreview|previous\\scomment))|(?:as\\snoted\\sby\\s(?:another|someone))|(?:referencing\\s(?:another|a\\sprevious|prior)\\s.*?(?:review|comment))|(?:I\\sfound\\sthe\\scomment\\s(?:above|below)\\s.*?interesting)|(?:referring\\sto\\s.*?(?:what\\swas\\smentioned|the\\scomment))|(?:based\\son\\s.*?(?:another\\scomment|previous\\sstatement|prior\\sreview))|(?:related\\sto\\s.*?(?:what\\swas\\sstated|another\\sreview))|(?:just\\sas\\s.*?(?:another\\suser\\snoted|someone\\sstated))|(?:according\\sto\\s.*?(?:another\\sreviewer|what\\swas\\sstated))|(?:echoing\\s.*?(?:someone\\selse|another\\sperson))|(?:thank\\s.*?(?:another\\sreviewer|the\\scommenter))|(?:replying\\sto\\s.*?(?:a\\scomment|what\\swas\\smentioned))|(?:similar\\sto\\s.*?(?:what\\shas\\sbeen\\sreviewed|another\\sopinion))|(?:I\\sagree\\swith\\s.*?(?:another\\suser|someone\\selse))|(?:disagreeing\\swith\\s.*?(?:another\\sstatement|what\\swas\\ssaid))|(?:adding\\sto\\s.*?(?:what\\swas\\smentioned|another\\scomment))|(?:continuing\\sthe\\sdiscussion\\sof\\s.*?(?:a\\sreview|prior\\sstatement))\", regex=True, case=False)]"
   ],
   "id": "df8009624ae7c25",
   "outputs": [],
   "execution_count": null
  },
  {
   "metadata": {},
   "cell_type": "code",
   "source": "regex_result.to_csv(\"../regex_result.csv\")",
   "id": "c7694d1f5a809363",
   "outputs": [],
   "execution_count": null
  }
 ],
 "metadata": {
  "kernelspec": {
   "display_name": "Python 3",
   "language": "python",
   "name": "python3"
  },
  "language_info": {
   "codemirror_mode": {
    "name": "ipython",
    "version": 2
   },
   "file_extension": ".py",
   "mimetype": "text/x-python",
   "name": "python",
   "nbconvert_exporter": "python",
   "pygments_lexer": "ipython2",
   "version": "2.7.6"
  }
 },
 "nbformat": 4,
 "nbformat_minor": 5
}
