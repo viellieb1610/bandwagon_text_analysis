{
 "cells": [
  {
   "metadata": {},
   "cell_type": "markdown",
   "source": "# Imports",
   "id": "bc7b18ea7b05c5d8"
  },
  {
   "cell_type": "code",
   "id": "initial_id",
   "metadata": {
    "collapsed": true,
    "jupyter": {
     "is_executing": true
    }
   },
   "source": "import pandas as pd",
   "outputs": [],
   "execution_count": null
  },
  {
   "metadata": {},
   "cell_type": "markdown",
   "source": "# Data",
   "id": "6a78959d35586f14"
  },
  {
   "metadata": {},
   "cell_type": "code",
   "outputs": [],
   "execution_count": null,
   "source": "df = pd.read_csv(\"/home/philipp/Gdrive/2_Universität/Wirtschaftsinformatik/7. Semester/Bachelorarbeit (Bandwagon Effect)/Daten/Raw/imdb_raw.csv\")",
   "id": "62c31e2f86df1ffe"
  },
  {
   "metadata": {},
   "cell_type": "markdown",
   "source": "# Feature Engineering",
   "id": "c8fc6a745494d5e4"
  },
  {
   "metadata": {},
   "cell_type": "markdown",
   "source": "## Rename Columns",
   "id": "f085baa0648c9337"
  },
  {
   "metadata": {},
   "cell_type": "code",
   "outputs": [],
   "execution_count": null,
   "source": "df.columns = [\"index\", \"review_date\", \"user\", \"item\", \"rating\", \"review_text\"]",
   "id": "cb06010c1cc61ede"
  }
 ],
 "metadata": {
  "kernelspec": {
   "display_name": "Python 3",
   "language": "python",
   "name": "python3"
  },
  "language_info": {
   "codemirror_mode": {
    "name": "ipython",
    "version": 2
   },
   "file_extension": ".py",
   "mimetype": "text/x-python",
   "name": "python",
   "nbconvert_exporter": "python",
   "pygments_lexer": "ipython2",
   "version": "2.7.6"
  }
 },
 "nbformat": 4,
 "nbformat_minor": 5
}
